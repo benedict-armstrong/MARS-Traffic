{
 "cells": [
  {
   "cell_type": "markdown",
   "metadata": {},
   "source": [
    "following tutorial at https://pytorch.org/rl/stable/tutorials/getting-started-5.html"
   ]
  },
  {
   "cell_type": "code",
   "execution_count": 2,
   "metadata": {},
   "outputs": [
    {
     "data": {
      "text/plain": [
       "795726461"
      ]
     },
     "execution_count": 2,
     "metadata": {},
     "output_type": "execute_result"
    }
   ],
   "source": [
    "from tensordict.nn import TensorDictModule as Mod, TensorDictSequential as Seq\n",
    "import torch\n",
    "import time\n",
    "import gymnasium as gym\n",
    "from torchrl.envs import GymEnv, StepCounter, TransformedEnv, GymWrapper\n",
    "\n",
    "\n",
    "torch.manual_seed(0)\n",
    "\n",
    "base_env = gym.make(\"intersection-v1\")\n",
    "\n",
    "# Wrap the environment\n",
    "base_env = GymWrapper(base_env, device=\"cpu\")\n",
    "\n",
    "env = TransformedEnv(\n",
    "    base_env, StepCounter()\n",
    ")\n",
    "env.set_seed(0)"
   ]
  },
  {
   "cell_type": "code",
   "execution_count": 6,
   "metadata": {},
   "outputs": [
    {
     "data": {
      "text/plain": [
       "TransformedEnv(\n",
       "    env=GymWrapper(env=<OrderEnforcing<PassiveEnvChecker<ContinuousIntersectionEnv<intersection-v1>>>>, batch_size=torch.Size([])),\n",
       "    transform=StepCounter(keys=[]))"
      ]
     },
     "execution_count": 6,
     "metadata": {},
     "output_type": "execute_result"
    }
   ],
   "source": [
    "env"
   ]
  },
  {
   "cell_type": "code",
   "execution_count": 9,
   "metadata": {},
   "outputs": [
    {
     "data": {
      "text/plain": [
       "{torchrl.data.tensor_specs.OneHotDiscreteTensorSpec: 'one_hot',\n",
       " torchrl.data.tensor_specs.MultiOneHotDiscreteTensorSpec: 'mult_one_hot',\n",
       " torchrl.data.tensor_specs.BinaryDiscreteTensorSpec: 'binary',\n",
       " torchrl.data.tensor_specs.DiscreteTensorSpec: 'categorical',\n",
       " 'one_hot': 'one_hot',\n",
       " 'one-hot': 'one_hot',\n",
       " 'mult_one_hot': 'mult_one_hot',\n",
       " 'mult-one-hot': 'mult_one_hot',\n",
       " 'multi_one_hot': 'mult_one_hot',\n",
       " 'multi-one-hot': 'mult_one_hot',\n",
       " 'binary': 'binary',\n",
       " 'categorical': 'categorical',\n",
       " torchrl.data.tensor_specs.MultiDiscreteTensorSpec: 'multi_categorical',\n",
       " 'multi_categorical': 'multi_categorical',\n",
       " 'multi-categorical': 'multi_categorical',\n",
       " 'multi_discrete': 'multi_categorical',\n",
       " 'multi-discrete': 'multi_categorical'}"
      ]
     },
     "execution_count": 9,
     "metadata": {},
     "output_type": "execute_result"
    }
   ],
   "source": []
  },
  {
   "cell_type": "code",
   "execution_count": 10,
   "metadata": {},
   "outputs": [
    {
     "data": {
      "text/plain": [
       "BoundedTensorSpec(\n",
       "    shape=torch.Size([2]),\n",
       "    space=ContinuousBox(\n",
       "        low=Tensor(shape=torch.Size([2]), device=cpu, dtype=torch.float32, contiguous=True),\n",
       "        high=Tensor(shape=torch.Size([2]), device=cpu, dtype=torch.float32, contiguous=True)),\n",
       "    device=cpu,\n",
       "    dtype=torch.float32,\n",
       "    domain=continuous)"
      ]
     },
     "execution_count": 10,
     "metadata": {},
     "output_type": "execute_result"
    }
   ],
   "source": [
    "env.action_spec"
   ]
  },
  {
   "cell_type": "code",
   "execution_count": 14,
   "metadata": {},
   "outputs": [],
   "source": [
    "n_obs = env.observation_spec[\"observation\"].shape[-1]\n",
    "n_act = env.action_spec.shape[-1]"
   ]
  },
  {
   "cell_type": "code",
   "execution_count": 15,
   "metadata": {},
   "outputs": [],
   "source": [
    "from torchrl.modules import EGreedyModule, MLP, QValueModule\n",
    "from torch import nn\n",
    "from torchrl.data.tensor_specs import BoundedTensorSpec\n",
    "from torchrl.modules.distributions.continuous import NormalParamWrapper, TanhNormal\n",
    "from torchrl.modules.tensordict_module.actors import ProbabilisticActor, ValueOperator\n",
    "from torchrl.modules.tensordict_module.common import SafeModule\n",
    "from torchrl.objectives.ppo import PPOLoss\n",
    "from tensordict import TensorDict\n",
    "\n",
    "base_layer = nn.Linear(n_obs, 5)\n",
    "net = NormalParamWrapper(nn.Sequential(base_layer, nn.Linear(5, 2 * n_act)))\n",
    "module = SafeModule(net, in_keys=[\"observation\"], out_keys=[\"loc\", \"scale\"])\n",
    "actor = ProbabilisticActor(\n",
    "    module=module,\n",
    "    distribution_class=TanhNormal,\n",
    "    in_keys=[\"loc\", \"scale\"],\n",
    "    spec=env.action_spec\n",
    ")\n",
    "module = nn.Sequential(base_layer, nn.Linear(5, 1))\n",
    "value = ValueOperator(\n",
    "    module=module,\n",
    "    in_keys=[\"observation\"])\n",
    "loss = PPOLoss(actor, value)"
   ]
  }
 ],
 "metadata": {
  "kernelspec": {
   "display_name": "MARS-Traffic-KmMWCuv8",
   "language": "python",
   "name": "python3"
  },
  "language_info": {
   "codemirror_mode": {
    "name": "ipython",
    "version": 3
   },
   "file_extension": ".py",
   "mimetype": "text/x-python",
   "name": "python",
   "nbconvert_exporter": "python",
   "pygments_lexer": "ipython3",
   "version": "3.11.8"
  }
 },
 "nbformat": 4,
 "nbformat_minor": 2
}
