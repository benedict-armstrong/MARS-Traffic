{
 "cells": [
  {
   "cell_type": "code",
   "execution_count": 13,
   "metadata": {},
   "outputs": [],
   "source": [
    "import argparse\n",
    "import gymnasium as gym\n",
    "from itertools import count\n",
    "from collections import namedtuple\n",
    "\n",
    "import torch\n",
    "import torch.nn as nn\n",
    "import torch.nn.functional as F\n",
    "import torch.optim as optim\n",
    "from torch.distributions import Categorical\n",
    "\n",
    "\n",
    "\n",
    "env = gym.make(\"intersection-v1\")"
   ]
  },
  {
   "cell_type": "code",
   "execution_count": 14,
   "metadata": {},
   "outputs": [
    {
     "name": "stderr",
     "output_type": "stream",
     "text": [
      "/Users/ben/.local/share/virtualenvs/MARS-Traffic-KmMWCuv8/lib/python3.11/site-packages/gymnasium/core.py:311: UserWarning: \u001b[33mWARN: env.config to get variables from other wrappers is deprecated and will be removed in v1.0, to get this variable you can do `env.unwrapped.config` for environment variables or `env.get_wrapper_attr('config')` that will search the reminding wrappers.\u001b[0m\n",
      "  logger.warn(\n"
     ]
    },
    {
     "data": {
      "text/plain": [
       "{'observation': {'type': 'Kinematics',\n",
       "  'vehicles_count': 5,\n",
       "  'features': ['presence',\n",
       "   'x',\n",
       "   'y',\n",
       "   'vx',\n",
       "   'vy',\n",
       "   'long_off',\n",
       "   'lat_off',\n",
       "   'ang_off']},\n",
       " 'action': {'type': 'ContinuousAction',\n",
       "  'steering_range': [-1.0471975511965976, 1.0471975511965976],\n",
       "  'longitudinal': True,\n",
       "  'lateral': True,\n",
       "  'dynamical': True},\n",
       " 'simulation_frequency': 15,\n",
       " 'policy_frequency': 1,\n",
       " 'other_vehicles_type': 'highway_env.vehicle.behavior.IDMVehicle',\n",
       " 'screen_width': 600,\n",
       " 'screen_height': 600,\n",
       " 'centering_position': [0.5, 0.6],\n",
       " 'scaling': 7.15,\n",
       " 'show_trajectories': False,\n",
       " 'render_agent': True,\n",
       " 'offscreen_rendering': False,\n",
       " 'manual_control': False,\n",
       " 'real_time_rendering': False,\n",
       " 'duration': 13,\n",
       " 'destination': 'o1',\n",
       " 'controlled_vehicles': 1,\n",
       " 'initial_vehicle_count': 10,\n",
       " 'spawn_probability': 0.6,\n",
       " 'collision_reward': -5,\n",
       " 'high_speed_reward': 1,\n",
       " 'arrived_reward': 1,\n",
       " 'reward_speed_range': [7.0, 9.0],\n",
       " 'normalize_reward': False,\n",
       " 'offroad_terminal': False}"
      ]
     },
     "execution_count": 14,
     "metadata": {},
     "output_type": "execute_result"
    }
   ],
   "source": [
    "env.config"
   ]
  },
  {
   "cell_type": "code",
   "execution_count": 15,
   "metadata": {},
   "outputs": [
    {
     "data": {
      "text/plain": [
       "EnvSpec(id='intersection-v1', entry_point='highway_env.envs:ContinuousIntersectionEnv', reward_threshold=None, nondeterministic=False, max_episode_steps=None, order_enforce=True, autoreset=False, disable_env_checker=False, apply_api_compatibility=False, kwargs={}, namespace=None, name='intersection', version=1, additional_wrappers=(), vector_entry_point=None)"
      ]
     },
     "execution_count": 15,
     "metadata": {},
     "output_type": "execute_result"
    }
   ],
   "source": [
    "env.spec"
   ]
  },
  {
   "cell_type": "code",
   "execution_count": 41,
   "metadata": {},
   "outputs": [
    {
     "data": {
      "text/plain": [
       "array([-0.44213468,  0.32507154], dtype=float32)"
      ]
     },
     "execution_count": 41,
     "metadata": {},
     "output_type": "execute_result"
    }
   ],
   "source": [
    "# sample action\n",
    "env.action_space.sample()"
   ]
  }
 ],
 "metadata": {
  "kernelspec": {
   "display_name": "MARS-Traffic-KmMWCuv8",
   "language": "python",
   "name": "python3"
  },
  "language_info": {
   "codemirror_mode": {
    "name": "ipython",
    "version": 3
   },
   "file_extension": ".py",
   "mimetype": "text/x-python",
   "name": "python",
   "nbconvert_exporter": "python",
   "pygments_lexer": "ipython3",
   "version": "3.11.8"
  }
 },
 "nbformat": 4,
 "nbformat_minor": 2
}
